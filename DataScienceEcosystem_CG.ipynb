{
 "cells": [
  {
   "cell_type": "markdown",
   "id": "36df5962-3d9a-4492-b404-d4e1cdf676ea",
   "metadata": {},
   "source": [
    "# Data Science tools and Ecosystem"
   ]
  },
  {
   "cell_type": "markdown",
   "id": "d7b97d29-edbc-4dfe-bc98-02cd49e9f8f0",
   "metadata": {},
   "source": [
    "In this notebook Data Science Tools and Ecosystem are summarized"
   ]
  },
  {
   "cell_type": "markdown",
   "id": "25ac2928-ea4d-4cbc-997e-465a809e4ad0",
   "metadata": {},
   "source": [
    "**Objetives :**\n",
    "\n",
    "- List Languages\n",
    "- List libraries\n",
    "- List enviroments\n"
   ]
  },
  {
   "cell_type": "markdown",
   "id": "8e22e2c1-e3b5-4c22-ae87-efdfbc3e5f0b",
   "metadata": {},
   "source": [
    "Some of the popular languages that Data Scientists use are :\n",
    "\n",
    "\n",
    "1. R \n",
    "2. Python \n",
    "3. SQL \n",
    "4. Scala \n",
    "\n"
   ]
  },
  {
   "cell_type": "markdown",
   "id": "58916a90-7f6b-4653-9caa-6e57480ae3c9",
   "metadata": {},
   "source": [
    "Some of the commonly used libraries used by Data Scientists include :\n",
    "\n",
    "1. Pandas\n",
    "2. NumPy\n",
    "3. Matplotlib\n",
    "4. Seaborn\n",
    "\n",
    "\n"
   ]
  },
  {
   "cell_type": "markdown",
   "id": "e1b3e88d-c431-4b49-a896-da64c4f6316c",
   "metadata": {},
   "source": [
    "| Data Science Tools |\n",
    "|:------------------:|\n",
    "| JupyterLab |\n",
    "| VSCode |\n",
    "| Google Colaboratory |\n",
    "\n"
   ]
  },
  {
   "cell_type": "markdown",
   "id": "2e4af1de-3ecc-4c0f-85f5-8a9744f5aa17",
   "metadata": {},
   "source": [
    "### Below are a fe examples of evaluating arithmetic expressions in Python"
   ]
  },
  {
   "cell_type": "code",
   "execution_count": 54,
   "id": "856a0e44-969c-4731-b612-6b5193687f97",
   "metadata": {},
   "outputs": [
    {
     "data": {
      "text/plain": [
       "17"
      ]
     },
     "execution_count": 54,
     "metadata": {},
     "output_type": "execute_result"
    }
   ],
   "source": [
    "(3*4)+5 # this a simple arithmetic expression to multiply then add integers "
   ]
  },
  {
   "cell_type": "code",
   "execution_count": 52,
   "id": "bbb719fb-7a35-4862-ba46-0ec5467f8fe8",
   "metadata": {},
   "outputs": [
    {
     "data": {
      "text/plain": [
       "3.3333333333333335"
      ]
     },
     "execution_count": 52,
     "metadata": {},
     "output_type": "execute_result"
    }
   ],
   "source": [
    "200/60 # This will convert 200 minutes intos hours by dividing by 60"
   ]
  },
  {
   "cell_type": "markdown",
   "id": "48d60f57-4e0b-4f9e-854b-ea3871fb7693",
   "metadata": {},
   "source": [
    "## Autor :\n",
    "Carlos Grande"
   ]
  },
  {
   "cell_type": "code",
   "execution_count": null,
   "id": "1a401bf8-1bfc-422f-9293-1b7f66877b38",
   "metadata": {},
   "outputs": [],
   "source": []
  }
 ],
 "metadata": {
  "kernelspec": {
   "display_name": "Python 3 (ipykernel)",
   "language": "python",
   "name": "python3"
  },
  "language_info": {
   "codemirror_mode": {
    "name": "ipython",
    "version": 3
   },
   "file_extension": ".py",
   "mimetype": "text/x-python",
   "name": "python",
   "nbconvert_exporter": "python",
   "pygments_lexer": "ipython3",
   "version": "3.12.4"
  }
 },
 "nbformat": 4,
 "nbformat_minor": 5
}
